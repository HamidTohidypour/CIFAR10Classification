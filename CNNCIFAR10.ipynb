{
 "cells": [
  {
   "cell_type": "markdown",
   "metadata": {},
   "source": [
    "# CIFAR10 classification\n"
   ]
  },
  {
   "cell_type": "code",
   "execution_count": 90,
   "metadata": {},
   "outputs": [],
   "source": [
    "#import libraries\n",
    "import numpy as np\n",
    "import matplotlib.pyplot as plt\n",
    "\n",
    "\n",
    "from tensorflow.keras import regularizers\n",
    "\n",
    "from keras.layers import Input, Flatten, Dense, Conv2D, MaxPooling2D\n",
    "from keras.models import Model\n",
    "from keras.optimizers import Adam\n",
    "from keras.utils import to_categorical\n",
    "\n",
    "from keras.layers import Dropout\n",
    "\n",
    "\n",
    "from keras.datasets import cifar10\n",
    "import copy \n",
    "\n"
   ]
  },
  {
   "cell_type": "code",
   "execution_count": 102,
   "metadata": {},
   "outputs": [
    {
     "name": "stdout",
     "output_type": "stream",
     "text": [
      "1\n"
     ]
    }
   ],
   "source": [
    "#import CIFAR10\n",
    "NUM_CLASSES = 10\n",
    "(x_train, y_train), (x_test, y_test) = cifar10.load_data()\n",
    "print(y_train[5][0])\n",
    "\n",
    "x_test_org=x_test"
   ]
  },
  {
   "cell_type": "code",
   "execution_count": 103,
   "metadata": {},
   "outputs": [
    {
     "name": "stdout",
     "output_type": "stream",
     "text": [
      "1\n",
      "(50000, 32, 32, 3)\n"
     ]
    }
   ],
   "source": [
    "\n",
    "#Change number of classes to 3\n",
    "#Cat,Dog, others\n",
    "for i in range (0,len(x_train)):\n",
    "    if (y_train[i][0]<3 or y_train[i][0]==4 or y_train[i][0]>5):\n",
    "        y_train[i]=2;\n",
    "    elif (y_train[i][0]==3):\n",
    "        y_train[i]=0\n",
    "    elif (y_train[i][0]==5):\n",
    "        y_train[i]=2\n",
    "\n",
    "for i in range (0,len(x_test)):\n",
    "    if (y_test[i][0]<3 or y_test[i][0]==4 or y_test[i][0]>5):\n",
    "        y_test[i]=2;\n",
    "    elif (y_test[i][0]==3):\n",
    "        y_test[i]=0\n",
    "    elif (y_test[i][0]==5):\n",
    "        y_test[i]=2\n",
    "        \n",
    "NUM_CLASSES = 3\n",
    "\n",
    "#change it back to 10 classes\n",
    "NUM_CLASSES = 10\n",
    "(x_train, y_train), (x_test, y_test) = cifar10.load_data()\n",
    "print(y_train[5][0])\n",
    "\n",
    "actual_single1=y_test;\n",
    "\n",
    "#=============================\n",
    "#normalization\n",
    "x_train = x_train.astype('float32')\n",
    "x_test = x_test.astype('float32')\n",
    "\n",
    "meanTrainImage=np.zeros(3, dtype=float)\n",
    "for j in range (0, 3):\n",
    "    meanTrainImage[j] = np.mean(x_train[:,:,:,j].flatten())\n",
    "\n",
    "\n",
    "for i in range (0, len(x_train)):\n",
    "    for j in range (0, 3):\n",
    "        x_train[i,:,:,j] = copy.copy(x_train[i,:,:,j] - meanTrainImage[j])/255\n",
    "\n",
    "        \n",
    "meanTestImage=np.zeros(3, dtype=float)\n",
    "for j in range (0, 3):\n",
    "    meanTestImage[j] = np.mean(x_test[:,:,:,j].flatten())\n",
    "\n",
    "\n",
    "for i in range (0, len(x_test)):\n",
    "    for j in range (0, 3):\n",
    "        x_test[i,:,:,j] = copy.copy(x_test[i,:,:,j] - meanTestImage[j])/255\n",
    "        \n",
    "\n",
    "\n",
    "print(x_train.shape)    \n",
    "\n",
    "#categorized the target\n",
    "y_train = to_categorical(y_train, NUM_CLASSES)\n",
    "y_test = to_categorical(y_test, NUM_CLASSES)"
   ]
  },
  {
   "cell_type": "code",
   "execution_count": 93,
   "metadata": {},
   "outputs": [],
   "source": [
    "\n",
    "\n",
    "#network structure:\n",
    "input_layer = Input((32,32,3))\n",
    "\n",
    "x=input_layer\n",
    "\n",
    "x = Conv2D(32, (3, 3), padding=\"same\", activation=\"relu\") (x)\n",
    "x = MaxPooling2D(pool_size=(2, 2),strides=(2, 2), padding='valid')(x)\n",
    "\n",
    "\n",
    "x = Conv2D(16, (3, 3), padding=\"same\", activation=\"relu\") (x)\n",
    "x = MaxPooling2D(pool_size=(2, 2),strides=(2, 2), padding='valid')(x)\n",
    "\n",
    "\n",
    "x = Flatten()(x)\n",
    "\n",
    "output_layer = Dense(NUM_CLASSES, activation = 'softmax')(x)\n",
    "\n",
    "model = Model(input_layer, output_layer)\n",
    "\n",
    "\n"
   ]
  },
  {
   "cell_type": "code",
   "execution_count": 94,
   "metadata": {},
   "outputs": [
    {
     "name": "stdout",
     "output_type": "stream",
     "text": [
      "_________________________________________________________________\n",
      "Layer (type)                 Output Shape              Param #   \n",
      "=================================================================\n",
      "input_6 (InputLayer)         (None, 32, 32, 3)         0         \n",
      "_________________________________________________________________\n",
      "conv2d_7 (Conv2D)            (None, 32, 32, 32)        896       \n",
      "_________________________________________________________________\n",
      "max_pooling2d_7 (MaxPooling2 (None, 16, 16, 32)        0         \n",
      "_________________________________________________________________\n",
      "conv2d_8 (Conv2D)            (None, 16, 16, 16)        4624      \n",
      "_________________________________________________________________\n",
      "max_pooling2d_8 (MaxPooling2 (None, 8, 8, 16)          0         \n",
      "_________________________________________________________________\n",
      "flatten_5 (Flatten)          (None, 1024)              0         \n",
      "_________________________________________________________________\n",
      "dense_7 (Dense)              (None, 10)                10250     \n",
      "=================================================================\n",
      "Total params: 15,770\n",
      "Trainable params: 15,770\n",
      "Non-trainable params: 0\n",
      "_________________________________________________________________\n"
     ]
    }
   ],
   "source": [
    "model.summary()"
   ]
  },
  {
   "cell_type": "code",
   "execution_count": 95,
   "metadata": {},
   "outputs": [],
   "source": [
    "#Optimization part for the back propagation\n",
    "opt = Adam(lr=0.0001) #learning rate (lr)\n",
    "\n",
    "model.compile(loss='categorical_crossentropy', optimizer=opt, metrics=['accuracy'])\n",
    "\n",
    "#model.compile(loss=keras.losses.categorical_crossentropy,\n",
    "              #optimizer=keras.optimizers.Adadelta(),\n",
    "              #metrics=['accuracy'])\n"
   ]
  },
  {
   "cell_type": "code",
   "execution_count": 96,
   "metadata": {},
   "outputs": [
    {
     "name": "stdout",
     "output_type": "stream",
     "text": [
      "Train on 6699 samples, validate on 3300 samples\n",
      "Epoch 1/50\n",
      "6699/6699 [==============================] - 3s 454us/step - loss: 2.2433 - acc: 0.1730 - val_loss: 2.1448 - val_acc: 0.2442\n",
      "Epoch 2/50\n",
      "6699/6699 [==============================] - 3s 407us/step - loss: 2.0117 - acc: 0.2994 - val_loss: 1.9416 - val_acc: 0.3203\n",
      "Epoch 3/50\n",
      "6699/6699 [==============================] - 3s 406us/step - loss: 1.8789 - acc: 0.3451 - val_loss: 1.8727 - val_acc: 0.3424\n",
      "Epoch 4/50\n",
      "6699/6699 [==============================] - 3s 405us/step - loss: 1.8098 - acc: 0.3651 - val_loss: 1.8161 - val_acc: 0.3642\n",
      "Epoch 5/50\n",
      "6699/6699 [==============================] - 3s 400us/step - loss: 1.7554 - acc: 0.3859 - val_loss: 1.7626 - val_acc: 0.3873\n",
      "Epoch 6/50\n",
      "6699/6699 [==============================] - 3s 405us/step - loss: 1.7064 - acc: 0.4035 - val_loss: 1.7257 - val_acc: 0.4024\n",
      "Epoch 7/50\n",
      "6699/6699 [==============================] - 3s 401us/step - loss: 1.6636 - acc: 0.4171 - val_loss: 1.6916 - val_acc: 0.4067\n",
      "Epoch 8/50\n",
      "6699/6699 [==============================] - 3s 401us/step - loss: 1.6273 - acc: 0.4319 - val_loss: 1.6569 - val_acc: 0.4239\n",
      "Epoch 9/50\n",
      "6699/6699 [==============================] - 3s 401us/step - loss: 1.5937 - acc: 0.4375 - val_loss: 1.6330 - val_acc: 0.4309\n",
      "Epoch 10/50\n",
      "6699/6699 [==============================] - 3s 409us/step - loss: 1.5639 - acc: 0.4504 - val_loss: 1.6203 - val_acc: 0.4306\n",
      "Epoch 11/50\n",
      "6699/6699 [==============================] - 3s 417us/step - loss: 1.5335 - acc: 0.4608 - val_loss: 1.5855 - val_acc: 0.4424\n",
      "Epoch 12/50\n",
      "6699/6699 [==============================] - 3s 417us/step - loss: 1.5111 - acc: 0.4641 - val_loss: 1.5711 - val_acc: 0.4464\n",
      "Epoch 13/50\n",
      "6699/6699 [==============================] - 3s 415us/step - loss: 1.4878 - acc: 0.4754 - val_loss: 1.5494 - val_acc: 0.4518\n",
      "Epoch 14/50\n",
      "6699/6699 [==============================] - 3s 415us/step - loss: 1.4648 - acc: 0.4866 - val_loss: 1.5375 - val_acc: 0.4552\n",
      "Epoch 15/50\n",
      "6699/6699 [==============================] - 3s 413us/step - loss: 1.4442 - acc: 0.4944 - val_loss: 1.5240 - val_acc: 0.4564\n",
      "Epoch 16/50\n",
      "6699/6699 [==============================] - 3s 416us/step - loss: 1.4275 - acc: 0.5025 - val_loss: 1.5112 - val_acc: 0.4691\n",
      "Epoch 17/50\n",
      "6699/6699 [==============================] - 3s 417us/step - loss: 1.4083 - acc: 0.5077 - val_loss: 1.4972 - val_acc: 0.4706\n",
      "Epoch 18/50\n",
      "6699/6699 [==============================] - 3s 415us/step - loss: 1.3905 - acc: 0.5138 - val_loss: 1.4852 - val_acc: 0.4782\n",
      "Epoch 19/50\n",
      "6699/6699 [==============================] - 3s 418us/step - loss: 1.3765 - acc: 0.5131 - val_loss: 1.4773 - val_acc: 0.4794\n",
      "Epoch 20/50\n",
      "6699/6699 [==============================] - 3s 418us/step - loss: 1.3633 - acc: 0.5268 - val_loss: 1.4611 - val_acc: 0.4803\n",
      "Epoch 21/50\n",
      "6699/6699 [==============================] - 3s 418us/step - loss: 1.3483 - acc: 0.5302 - val_loss: 1.4541 - val_acc: 0.4861\n",
      "Epoch 22/50\n",
      "6699/6699 [==============================] - 3s 415us/step - loss: 1.3347 - acc: 0.5347 - val_loss: 1.4428 - val_acc: 0.4915\n",
      "Epoch 23/50\n",
      "6699/6699 [==============================] - 3s 418us/step - loss: 1.3216 - acc: 0.5396 - val_loss: 1.4452 - val_acc: 0.4930\n",
      "Epoch 24/50\n",
      "6699/6699 [==============================] - 3s 419us/step - loss: 1.3133 - acc: 0.5449 - val_loss: 1.4274 - val_acc: 0.4994\n",
      "Epoch 25/50\n",
      "6699/6699 [==============================] - 3s 415us/step - loss: 1.2994 - acc: 0.5435 - val_loss: 1.4243 - val_acc: 0.4955\n",
      "Epoch 26/50\n",
      "6699/6699 [==============================] - 3s 418us/step - loss: 1.2889 - acc: 0.5458 - val_loss: 1.4111 - val_acc: 0.5030\n",
      "Epoch 27/50\n",
      "6699/6699 [==============================] - 3s 418us/step - loss: 1.2790 - acc: 0.5525 - val_loss: 1.4082 - val_acc: 0.5073\n",
      "Epoch 28/50\n",
      "6699/6699 [==============================] - 3s 418us/step - loss: 1.2687 - acc: 0.5593 - val_loss: 1.4033 - val_acc: 0.5042\n",
      "Epoch 29/50\n",
      "6699/6699 [==============================] - 3s 417us/step - loss: 1.2599 - acc: 0.5587 - val_loss: 1.4126 - val_acc: 0.5048\n",
      "Epoch 30/50\n",
      "6699/6699 [==============================] - 3s 417us/step - loss: 1.2513 - acc: 0.5650 - val_loss: 1.4040 - val_acc: 0.5030\n",
      "Epoch 31/50\n",
      "6699/6699 [==============================] - 3s 418us/step - loss: 1.2444 - acc: 0.5628 - val_loss: 1.3889 - val_acc: 0.5052\n",
      "Epoch 32/50\n",
      "6699/6699 [==============================] - 3s 417us/step - loss: 1.2349 - acc: 0.5714 - val_loss: 1.3859 - val_acc: 0.5067\n",
      "Epoch 33/50\n",
      "6699/6699 [==============================] - 3s 418us/step - loss: 1.2287 - acc: 0.5681 - val_loss: 1.3802 - val_acc: 0.5085\n",
      "Epoch 34/50\n",
      "6699/6699 [==============================] - 3s 419us/step - loss: 1.2207 - acc: 0.5752 - val_loss: 1.3748 - val_acc: 0.5097: 1.2246 - ac\n",
      "Epoch 35/50\n",
      "6699/6699 [==============================] - 3s 420us/step - loss: 1.2130 - acc: 0.5770 - val_loss: 1.3708 - val_acc: 0.5155\n",
      "Epoch 36/50\n",
      "6699/6699 [==============================] - 3s 420us/step - loss: 1.2027 - acc: 0.5831 - val_loss: 1.3595 - val_acc: 0.5158\n",
      "Epoch 37/50\n",
      "6699/6699 [==============================] - 3s 417us/step - loss: 1.1969 - acc: 0.5861 - val_loss: 1.3781 - val_acc: 0.5136\n",
      "Epoch 38/50\n",
      "6699/6699 [==============================] - 3s 418us/step - loss: 1.1912 - acc: 0.5861 - val_loss: 1.3670 - val_acc: 0.5176\n",
      "Epoch 39/50\n",
      "6699/6699 [==============================] - 3s 417us/step - loss: 1.1861 - acc: 0.5868 - val_loss: 1.3648 - val_acc: 0.5203\n",
      "Epoch 40/50\n",
      "6699/6699 [==============================] - 3s 415us/step - loss: 1.1809 - acc: 0.5917 - val_loss: 1.3547 - val_acc: 0.5185\n",
      "Epoch 41/50\n",
      "6699/6699 [==============================] - 3s 414us/step - loss: 1.1783 - acc: 0.5856 - val_loss: 1.3536 - val_acc: 0.5115\n",
      "Epoch 42/50\n",
      "6699/6699 [==============================] - 3s 414us/step - loss: 1.1704 - acc: 0.5976 - val_loss: 1.3549 - val_acc: 0.5179\n",
      "Epoch 43/50\n",
      "6699/6699 [==============================] - 3s 412us/step - loss: 1.1635 - acc: 0.5956 - val_loss: 1.3488 - val_acc: 0.5200\n",
      "Epoch 44/50\n",
      "6699/6699 [==============================] - 3s 413us/step - loss: 1.1572 - acc: 0.5932 - val_loss: 1.3532 - val_acc: 0.5176\n",
      "Epoch 45/50\n",
      "6699/6699 [==============================] - 3s 416us/step - loss: 1.1507 - acc: 0.6020 - val_loss: 1.3591 - val_acc: 0.5176\n",
      "Epoch 46/50\n",
      "6699/6699 [==============================] - 3s 416us/step - loss: 1.1488 - acc: 0.6005 - val_loss: 1.3420 - val_acc: 0.5197\n",
      "Epoch 47/50\n",
      "6699/6699 [==============================] - 3s 417us/step - loss: 1.1399 - acc: 0.6038 - val_loss: 1.3319 - val_acc: 0.5303\n",
      "Epoch 48/50\n",
      "6699/6699 [==============================] - 3s 415us/step - loss: 1.1381 - acc: 0.6049 - val_loss: 1.3429 - val_acc: 0.5258\n",
      "Epoch 49/50\n",
      "6699/6699 [==============================] - 3s 415us/step - loss: 1.1333 - acc: 0.6035 - val_loss: 1.3322 - val_acc: 0.5224\n",
      "Epoch 50/50\n",
      "6699/6699 [==============================] - 3s 416us/step - loss: 1.1287 - acc: 0.6087 - val_loss: 1.3293 - val_acc: 0.5252\n"
     ]
    },
    {
     "data": {
      "text/plain": [
       "<keras.callbacks.History at 0x2798835e2e8>"
      ]
     },
     "execution_count": 96,
     "metadata": {},
     "output_type": "execute_result"
    }
   ],
   "source": [
    "#Training part\n",
    "model.fit(x_train[1:10000], y_train[1:10000], validation_split=0.33 \n",
    "          , batch_size=32\n",
    "          , epochs=50\n",
    "          , shuffle=True)\n",
    "\n"
   ]
  },
  {
   "cell_type": "code",
   "execution_count": 98,
   "metadata": {},
   "outputs": [
    {
     "name": "stdout",
     "output_type": "stream",
     "text": [
      "10000/10000 [==============================] - 1s 95us/step\n"
     ]
    }
   ],
   "source": [
    "#Evaluate the model\n",
    "model.evaluate(x_test, y_test)\n",
    "\n",
    "\n",
    "CLASSES = np.array(['Airplane', 'Automobile', 'Bird', 'Cat', 'Deer', 'Dog', 'Frog', 'Horse', 'Ship', 'Truck'])\n",
    "\n",
    "preds = model.predict(x_test)\n",
    "preds.shape\n",
    "preds_single = CLASSES[np.argmax(preds, axis = -1)]\n",
    "actual_single = CLASSES[np.argmax(y_test, axis = -1)]\n",
    "\n"
   ]
  },
  {
   "cell_type": "code",
   "execution_count": 104,
   "metadata": {},
   "outputs": [
    {
     "data": {
      "image/png": "[encoded data removed]",
      "text/plain": [
       "<Figure size 1080x936 with 10 Axes>"
      ]
     },
     "metadata": {
      "needs_background": "light"
     },
     "output_type": "display_data"
    }
   ],
   "source": [
    "#Visulization for the test part\n",
    "n_to_show = 10\n",
    "indices = np.random.choice(range(len(x_test)), n_to_show)\n",
    "\n",
    "fig = plt.figure(figsize=(15, 13))\n",
    "fig.subplots_adjust(hspace=0.4, wspace=0.4)\n",
    "\n",
    "for i, idx in enumerate(indices):\n",
    "    img = x_test_org[idx]\n",
    "    ax = fig.add_subplot(1, n_to_show, i+1)\n",
    "    ax.axis('off')\n",
    "    ax.text(0.5, -0.35, 'pred = ' + str(preds_single[idx]), fontsize=10, ha='center', transform=ax.transAxes) \n",
    "    ax.text(0.5, -0.7, 'act = ' + str(actual_single[idx]), fontsize=10, ha='center', transform=ax.transAxes)\n",
    "    ax.imshow(img)\n"
   ]
  },
  {
   "cell_type": "code",
   "execution_count": 100,
   "metadata": {},
   "outputs": [
    {
     "name": "stdout",
     "output_type": "stream",
     "text": [
      "Accuracy of  Airplane : 0.566\n",
      "Accuracy of  Automobile : 0.672\n",
      "Accuracy of  Bird : 0.449\n",
      "Accuracy of  Cat : 0.285\n",
      "Accuracy of  Deer : 0.416\n",
      "Accuracy of  Dog : 0.431\n",
      "Accuracy of  Frog : 0.669\n",
      "Accuracy of  Horse : 0.611\n",
      "Accuracy of  Ship : 0.701\n",
      "Accuracy of  Truck : 0.553\n"
     ]
    }
   ],
   "source": [
    "#Accuracy of each class\n",
    "class_correct = np.zeros (10)# list(0. for i in range(10))\n",
    "class_total = np.zeros (10) # list(0. for i in range(10))\n",
    "\n",
    "for i in range (0,len(x_test)):\n",
    "    if (actual_single[i]==preds_single[i]):\n",
    "        class_correct[actual_single1[i]]=class_correct[actual_single1[i]]+1;\n",
    "    class_total[actual_single1[i]]=class_total[actual_single1[i]]+1;\n",
    "    \n",
    "for j in range (0,10):\n",
    "    print(\"Accuracy of \",CLASSES[j], \":\",class_correct[j]/class_total[j])\n",
    "    \n",
    "    "
   ]
  },
  {
   "cell_type": "code",
   "execution_count": null,
   "metadata": {},
   "outputs": [],
   "source": []
  }
 ],
 "metadata": {
  "kernelspec": {
   "display_name": "generative",
   "language": "python",
   "name": "generative"
  },
  "language_info": {
   "codemirror_mode": {
    "name": "ipython",
    "version": 3
   },
   "file_extension": ".py",
   "mimetype": "text/x-python",
   "name": "python",
   "nbconvert_exporter": "python",
   "pygments_lexer": "ipython3",
   "version": "3.6.10"
  }
 },
 "nbformat": 4,
 "nbformat_minor": 2
}
